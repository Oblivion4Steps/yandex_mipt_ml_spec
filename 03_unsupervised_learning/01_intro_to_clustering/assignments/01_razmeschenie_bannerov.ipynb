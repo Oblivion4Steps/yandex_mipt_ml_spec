{
 "cells": [
  {
   "cell_type": "markdown",
   "metadata": {},
   "source": [
    "# Programming Assignment: Размещение баннеров"
   ]
  },
  {
   "cell_type": "markdown",
   "metadata": {},
   "source": [
    "Представим, что международное круизное агентство *Carnival Cruise Line* решило себя разрекламировать с помощью баннеров и обратилось для этого к вам. Чтобы протестировать, велика ли от таких баннеров польза, их будет размещено всего 20 штук по всему миру. Вам надо выбрать 20 таких локаций для размещения, чтобы польза была большой и агентство продолжило с вами сотрудничать.  \n",
    "\n",
    "Агентство крупное, и у него есть несколько офисов по всему миру. Вблизи этих офисов оно и хочет разместить баннеры — легче договариваться и проверять результат. Также эти места должны быть популярны среди туристов.  \n",
    "\n",
    "Для поиска оптимальных мест воспользуемся базой данных крупнейшей социальной сети, основанной на локациях — Foursquare."
   ]
  },
  {
   "cell_type": "markdown",
   "metadata": {},
   "source": [
    "Часть открытых данных есть, например, на сайте archive.org: https://archive.org/details/201309_foursquare_dataset_umn\n",
    "\n",
    "Скачаем любым удобным образом архив *fsq.zip* с этой страницы. Нас будет интересовать файл checkins.dat."
   ]
  },
  {
   "cell_type": "code",
   "execution_count": 1,
   "metadata": {
    "collapsed": false
   },
   "outputs": [],
   "source": [
    "import pandas as pd\n",
    "import numpy as np\n",
    "\n",
    "data = []\n",
    "\n",
    "with open('checkins.dat') as f:\n",
    "    columns = list(map(str.strip, f.readline().strip().split('|'))) # get a list of columns\n",
    "    for line in f.readlines():\n",
    "        data_row = list(map(str.strip, line.strip().split('|')))\n",
    "        if len(data_row) == len(columns): # check if this row has proper n of columns\n",
    "            data.append(data_row)\n",
    "df_raw = pd.DataFrame(data)  \n",
    "df_raw.columns = columns"
   ]
  },
  {
   "cell_type": "markdown",
   "metadata": {},
   "source": [
    "Открыв его, увидим следующую структуру:"
   ]
  },
  {
   "cell_type": "code",
   "execution_count": 2,
   "metadata": {
    "collapsed": false
   },
   "outputs": [
    {
     "data": {
      "text/html": [
       "<div>\n",
       "<table border=\"1\" class=\"dataframe\">\n",
       "  <thead>\n",
       "    <tr style=\"text-align: right;\">\n",
       "      <th></th>\n",
       "      <th>id</th>\n",
       "      <th>user_id</th>\n",
       "      <th>venue_id</th>\n",
       "      <th>latitude</th>\n",
       "      <th>longitude</th>\n",
       "      <th>created_at</th>\n",
       "    </tr>\n",
       "  </thead>\n",
       "  <tbody>\n",
       "    <tr>\n",
       "      <th>0</th>\n",
       "      <td>984301</td>\n",
       "      <td>2041916</td>\n",
       "      <td>5222</td>\n",
       "      <td></td>\n",
       "      <td></td>\n",
       "      <td>2012-04-21 17:39:01</td>\n",
       "    </tr>\n",
       "    <tr>\n",
       "      <th>1</th>\n",
       "      <td>984222</td>\n",
       "      <td>15824</td>\n",
       "      <td>5222</td>\n",
       "      <td>38.8951118</td>\n",
       "      <td>-77.0363658</td>\n",
       "      <td>2012-04-21 17:43:47</td>\n",
       "    </tr>\n",
       "    <tr>\n",
       "      <th>2</th>\n",
       "      <td>984315</td>\n",
       "      <td>1764391</td>\n",
       "      <td>5222</td>\n",
       "      <td></td>\n",
       "      <td></td>\n",
       "      <td>2012-04-21 17:37:18</td>\n",
       "    </tr>\n",
       "    <tr>\n",
       "      <th>3</th>\n",
       "      <td>984234</td>\n",
       "      <td>44652</td>\n",
       "      <td>5222</td>\n",
       "      <td>33.800745</td>\n",
       "      <td>-84.41052</td>\n",
       "      <td>2012-04-21 17:43:43</td>\n",
       "    </tr>\n",
       "    <tr>\n",
       "      <th>4</th>\n",
       "      <td>984249</td>\n",
       "      <td>2146840</td>\n",
       "      <td>5222</td>\n",
       "      <td></td>\n",
       "      <td></td>\n",
       "      <td>2012-04-21 17:42:58</td>\n",
       "    </tr>\n",
       "  </tbody>\n",
       "</table>\n",
       "</div>"
      ],
      "text/plain": [
       "       id  user_id venue_id    latitude    longitude           created_at\n",
       "0  984301  2041916     5222                           2012-04-21 17:39:01\n",
       "1  984222    15824     5222  38.8951118  -77.0363658  2012-04-21 17:43:47\n",
       "2  984315  1764391     5222                           2012-04-21 17:37:18\n",
       "3  984234    44652     5222   33.800745    -84.41052  2012-04-21 17:43:43\n",
       "4  984249  2146840     5222                           2012-04-21 17:42:58"
      ]
     },
     "execution_count": 2,
     "metadata": {},
     "output_type": "execute_result"
    }
   ],
   "source": [
    "df_raw.head()"
   ]
  },
  {
   "cell_type": "markdown",
   "metadata": {},
   "source": [
    "Для удобной работы с этим документом преобразуем его к формату csv, удалив строки, не содержащие координат — они неинформативны для нас:"
   ]
  },
  {
   "cell_type": "code",
   "execution_count": 3,
   "metadata": {
    "collapsed": false
   },
   "outputs": [
    {
     "data": {
      "text/html": [
       "<div>\n",
       "<table border=\"1\" class=\"dataframe\">\n",
       "  <thead>\n",
       "    <tr style=\"text-align: right;\">\n",
       "      <th></th>\n",
       "      <th>id</th>\n",
       "      <th>user_id</th>\n",
       "      <th>venue_id</th>\n",
       "      <th>latitude</th>\n",
       "      <th>longitude</th>\n",
       "      <th>created_at</th>\n",
       "    </tr>\n",
       "  </thead>\n",
       "  <tbody>\n",
       "    <tr>\n",
       "      <th>1</th>\n",
       "      <td>984222</td>\n",
       "      <td>15824</td>\n",
       "      <td>5222</td>\n",
       "      <td>38.8951118</td>\n",
       "      <td>-77.0363658</td>\n",
       "      <td>2012-04-21 17:43:47</td>\n",
       "    </tr>\n",
       "    <tr>\n",
       "      <th>3</th>\n",
       "      <td>984234</td>\n",
       "      <td>44652</td>\n",
       "      <td>5222</td>\n",
       "      <td>33.800745</td>\n",
       "      <td>-84.41052</td>\n",
       "      <td>2012-04-21 17:43:43</td>\n",
       "    </tr>\n",
       "    <tr>\n",
       "      <th>7</th>\n",
       "      <td>984291</td>\n",
       "      <td>105054</td>\n",
       "      <td>5222</td>\n",
       "      <td>45.5234515</td>\n",
       "      <td>-122.6762071</td>\n",
       "      <td>2012-04-21 17:39:22</td>\n",
       "    </tr>\n",
       "    <tr>\n",
       "      <th>9</th>\n",
       "      <td>984318</td>\n",
       "      <td>2146539</td>\n",
       "      <td>5222</td>\n",
       "      <td>40.764462</td>\n",
       "      <td>-111.904565</td>\n",
       "      <td>2012-04-21 17:35:46</td>\n",
       "    </tr>\n",
       "    <tr>\n",
       "      <th>10</th>\n",
       "      <td>984232</td>\n",
       "      <td>93870</td>\n",
       "      <td>380645</td>\n",
       "      <td>33.4483771</td>\n",
       "      <td>-112.0740373</td>\n",
       "      <td>2012-04-21 17:38:18</td>\n",
       "    </tr>\n",
       "  </tbody>\n",
       "</table>\n",
       "</div>"
      ],
      "text/plain": [
       "        id  user_id venue_id    latitude     longitude           created_at\n",
       "1   984222    15824     5222  38.8951118   -77.0363658  2012-04-21 17:43:47\n",
       "3   984234    44652     5222   33.800745     -84.41052  2012-04-21 17:43:43\n",
       "7   984291   105054     5222  45.5234515  -122.6762071  2012-04-21 17:39:22\n",
       "9   984318  2146539     5222   40.764462   -111.904565  2012-04-21 17:35:46\n",
       "10  984232    93870   380645  33.4483771  -112.0740373  2012-04-21 17:38:18"
      ]
     },
     "execution_count": 3,
     "metadata": {},
     "output_type": "execute_result"
    }
   ],
   "source": [
    "df = df_raw[(df_raw.latitude != '') & (df_raw.longitude != '')] # drop with empty coordinates\n",
    "df.head()"
   ]
  },
  {
   "cell_type": "markdown",
   "metadata": {},
   "source": [
    "Убедимся, что все 396634 строки с координатами считаны успешно."
   ]
  },
  {
   "cell_type": "code",
   "execution_count": 4,
   "metadata": {
    "collapsed": false
   },
   "outputs": [
    {
     "name": "stdout",
     "output_type": "stream",
     "text": [
      "(396634, 6)\n"
     ]
    }
   ],
   "source": [
    "print(df.shape)"
   ]
  },
  {
   "cell_type": "markdown",
   "metadata": {},
   "source": [
    "Теперь необходимо кластеризовать данные координаты, чтобы выявить центры скоплений туристов. Поскольку баннеры имеют сравнительно небольшую площадь действия, нам нужен алгоритм, позволяющий ограничить размер кластера и не зависящий от количества кластеров.\n",
    "\n",
    "Эта задача — хороший повод познакомиться с алгоритмом [MeanShift](http://scikit-learn.org/stable/modules/clustering.html#mean-shift), который мы обошли стороной в основной части лекций. Его описание при желании можно посмотреть в sklearn user guide, а чуть позже появится дополнительное видео с обзором этого и некоторых других алгоритмов кластеризации. Используйте MeanShift, указав bandwidth=0.1, что в переводе из градусов в метры колеблется примерно от 5 до 10 км в средних широтах.\n",
    "\n",
    "**Примечание**: на 396634 строках кластеризация будет работать долго. Быть очень терпеливым не возбраняется — результат от этого только улучшится. Но для того, чтобы сдать задание, понадобится сабсет из первых 100 тысяч строк. Это компромисс между качеством и затраченным временем. Обучение алгоритма на всём датасете занимает около часа, а на 100 тыс. строк — примерно 2 минуты, однако этого достаточно для получения корректных результатов.\n",
    "\n",
    "Некоторые из получившихся кластеров содержат слишком мало точек — такие кластеры не интересны рекламодателям. Поэтому надо определить, какие из кластеров содержат, скажем, больше 15 элементов. Центры этих кластеров и являются оптимальными для размещения."
   ]
  },
  {
   "cell_type": "code",
   "execution_count": 5,
   "metadata": {
    "collapsed": false
   },
   "outputs": [
    {
     "name": "stdout",
     "output_type": "stream",
     "text": [
      "CPU times: user 51.4 s, sys: 5.4 s, total: 56.8 s\n",
      "Wall time: 2min 35s\n"
     ]
    }
   ],
   "source": [
    "%%time\n",
    "from sklearn.cluster import MeanShift\n",
    "\n",
    "coordinates = df[['latitude', 'longitude']] # need only coordinates\n",
    "coordinates_samples = coordinates.sample(100000) # get random 100000 rows\n",
    "\n",
    "ms = MeanShift(bandwidth=0.1, n_jobs=-1)\n",
    "ms.fit(coordinates_samples)"
   ]
  },
  {
   "cell_type": "code",
   "execution_count": 6,
   "metadata": {
    "collapsed": false
   },
   "outputs": [
    {
     "data": {
      "text/plain": [
       "(100000, 2)"
      ]
     },
     "execution_count": 6,
     "metadata": {},
     "output_type": "execute_result"
    }
   ],
   "source": [
    "coordinates_samples.shape # 100000 random checkins in different places"
   ]
  },
  {
   "cell_type": "code",
   "execution_count": 7,
   "metadata": {
    "collapsed": false
   },
   "outputs": [
    {
     "data": {
      "text/html": [
       "<div>\n",
       "<table border=\"1\" class=\"dataframe\">\n",
       "  <thead>\n",
       "    <tr style=\"text-align: right;\">\n",
       "      <th></th>\n",
       "      <th>latitude</th>\n",
       "      <th>longitude</th>\n",
       "    </tr>\n",
       "  </thead>\n",
       "  <tbody>\n",
       "    <tr>\n",
       "      <th>50946</th>\n",
       "      <td>40.65</td>\n",
       "      <td>-73.95</td>\n",
       "    </tr>\n",
       "    <tr>\n",
       "      <th>618698</th>\n",
       "      <td>41.8781136</td>\n",
       "      <td>-87.6297982</td>\n",
       "    </tr>\n",
       "    <tr>\n",
       "      <th>378260</th>\n",
       "      <td>38.8951118</td>\n",
       "      <td>-77.0363658</td>\n",
       "    </tr>\n",
       "    <tr>\n",
       "      <th>658716</th>\n",
       "      <td>37.4282724</td>\n",
       "      <td>-121.9066238</td>\n",
       "    </tr>\n",
       "    <tr>\n",
       "      <th>671266</th>\n",
       "      <td>34.1435878</td>\n",
       "      <td>-118.3952221</td>\n",
       "    </tr>\n",
       "  </tbody>\n",
       "</table>\n",
       "</div>"
      ],
      "text/plain": [
       "          latitude     longitude\n",
       "50946        40.65        -73.95\n",
       "618698  41.8781136   -87.6297982\n",
       "378260  38.8951118   -77.0363658\n",
       "658716  37.4282724  -121.9066238\n",
       "671266  34.1435878  -118.3952221"
      ]
     },
     "execution_count": 7,
     "metadata": {},
     "output_type": "execute_result"
    }
   ],
   "source": [
    "coordinates_samples[:5]"
   ]
  },
  {
   "cell_type": "code",
   "execution_count": 8,
   "metadata": {
    "collapsed": false
   },
   "outputs": [
    {
     "data": {
      "text/plain": [
       "(3614, 2)"
      ]
     },
     "execution_count": 8,
     "metadata": {},
     "output_type": "execute_result"
    }
   ],
   "source": [
    "ms.cluster_centers_.shape # we got 3592 clusters in total"
   ]
  },
  {
   "cell_type": "code",
   "execution_count": 9,
   "metadata": {
    "collapsed": false
   },
   "outputs": [
    {
     "data": {
      "text/plain": [
       "array([[  40.71749079,  -73.98961297],\n",
       "       [  41.87814526,  -87.62982558],\n",
       "       [  33.44846438, -112.07410016],\n",
       "       [  33.44624229, -111.90185275],\n",
       "       [  38.88629231,  -77.04853713]])"
      ]
     },
     "execution_count": 9,
     "metadata": {},
     "output_type": "execute_result"
    }
   ],
   "source": [
    "ms.cluster_centers_[:5] # coordinates of clusters' centers"
   ]
  },
  {
   "cell_type": "code",
   "execution_count": 10,
   "metadata": {
    "collapsed": false
   },
   "outputs": [],
   "source": [
    "unique, counts = np.unique(ms.labels_, return_counts=True) # calc n of points in each center\n",
    "\n",
    "df_clusters = pd.DataFrame(columns=['cent_latitude', 'cent_longitude', \n",
    "                                    'clust_size', 'min_distance'])\n",
    "\n",
    "df_clusters.cent_latitude = ms.cluster_centers_[:,0]\n",
    "df_clusters.cent_longitude = ms.cluster_centers_[:,1]\n",
    "df_clusters.clust_size = counts"
   ]
  },
  {
   "cell_type": "code",
   "execution_count": 11,
   "metadata": {
    "collapsed": false
   },
   "outputs": [
    {
     "data": {
      "text/html": [
       "<div>\n",
       "<table border=\"1\" class=\"dataframe\">\n",
       "  <thead>\n",
       "    <tr style=\"text-align: right;\">\n",
       "      <th></th>\n",
       "      <th>cent_latitude</th>\n",
       "      <th>cent_longitude</th>\n",
       "      <th>clust_size</th>\n",
       "      <th>min_distance</th>\n",
       "    </tr>\n",
       "  </thead>\n",
       "  <tbody>\n",
       "    <tr>\n",
       "      <th>0</th>\n",
       "      <td>40.717491</td>\n",
       "      <td>-73.989613</td>\n",
       "      <td>14311</td>\n",
       "      <td>NaN</td>\n",
       "    </tr>\n",
       "    <tr>\n",
       "      <th>1</th>\n",
       "      <td>41.878145</td>\n",
       "      <td>-87.629826</td>\n",
       "      <td>3934</td>\n",
       "      <td>NaN</td>\n",
       "    </tr>\n",
       "    <tr>\n",
       "      <th>2</th>\n",
       "      <td>33.448464</td>\n",
       "      <td>-112.074100</td>\n",
       "      <td>2823</td>\n",
       "      <td>NaN</td>\n",
       "    </tr>\n",
       "    <tr>\n",
       "      <th>3</th>\n",
       "      <td>33.446242</td>\n",
       "      <td>-111.901853</td>\n",
       "      <td>2292</td>\n",
       "      <td>NaN</td>\n",
       "    </tr>\n",
       "    <tr>\n",
       "      <th>4</th>\n",
       "      <td>38.886292</td>\n",
       "      <td>-77.048537</td>\n",
       "      <td>2746</td>\n",
       "      <td>NaN</td>\n",
       "    </tr>\n",
       "    <tr>\n",
       "      <th>5</th>\n",
       "      <td>37.687228</td>\n",
       "      <td>-122.409044</td>\n",
       "      <td>3760</td>\n",
       "      <td>NaN</td>\n",
       "    </tr>\n",
       "    <tr>\n",
       "      <th>6</th>\n",
       "      <td>33.767588</td>\n",
       "      <td>-84.393062</td>\n",
       "      <td>1831</td>\n",
       "      <td>NaN</td>\n",
       "    </tr>\n",
       "    <tr>\n",
       "      <th>7</th>\n",
       "      <td>42.363248</td>\n",
       "      <td>-71.074186</td>\n",
       "      <td>1633</td>\n",
       "      <td>NaN</td>\n",
       "    </tr>\n",
       "    <tr>\n",
       "      <th>8</th>\n",
       "      <td>47.606201</td>\n",
       "      <td>-122.332057</td>\n",
       "      <td>1471</td>\n",
       "      <td>NaN</td>\n",
       "    </tr>\n",
       "    <tr>\n",
       "      <th>9</th>\n",
       "      <td>34.066156</td>\n",
       "      <td>-118.268165</td>\n",
       "      <td>912</td>\n",
       "      <td>NaN</td>\n",
       "    </tr>\n",
       "  </tbody>\n",
       "</table>\n",
       "</div>"
      ],
      "text/plain": [
       "   cent_latitude  cent_longitude  clust_size min_distance\n",
       "0      40.717491      -73.989613       14311          NaN\n",
       "1      41.878145      -87.629826        3934          NaN\n",
       "2      33.448464     -112.074100        2823          NaN\n",
       "3      33.446242     -111.901853        2292          NaN\n",
       "4      38.886292      -77.048537        2746          NaN\n",
       "5      37.687228     -122.409044        3760          NaN\n",
       "6      33.767588      -84.393062        1831          NaN\n",
       "7      42.363248      -71.074186        1633          NaN\n",
       "8      47.606201     -122.332057        1471          NaN\n",
       "9      34.066156     -118.268165         912          NaN"
      ]
     },
     "execution_count": 11,
     "metadata": {},
     "output_type": "execute_result"
    }
   ],
   "source": [
    "df_clusters = df_clusters[df_clusters.clust_size > 15] # get only clasters with > 15 points\n",
    "df_clusters[:10]"
   ]
  },
  {
   "cell_type": "markdown",
   "metadata": {},
   "source": [
    "При желании увидеть получившиеся результаты на карте можно передать центры получившихся кластеров в один из инструментов визуализации. Например, сайт [mapcustomizer.com](https://www.mapcustomizer.com/) имеет функцию Bulk Entry, куда можно вставить центры полученных кластеров в формате:"
   ]
  },
  {
   "cell_type": "markdown",
   "metadata": {},
   "source": [
    "```\n",
    "38.8951118, -77.0363658\n",
    "\n",
    "33.800745, -84.41052\n",
    "\n",
    "45.5234515, -122.6762071\n",
    "...\n",
    "```"
   ]
  },
  {
   "cell_type": "markdown",
   "metadata": {},
   "source": [
    "Как мы помним, 20 баннеров надо разместить близ офисов компании. Найдем на Google Maps по запросу Carnival Cruise Line адреса всех офисов:"
   ]
  },
  {
   "cell_type": "markdown",
   "metadata": {},
   "source": [
    "```\n",
    "33.751277, -118.188740 (Los Angeles)\n",
    "\n",
    "25.867736, -80.324116 (Miami)\n",
    "\n",
    "51.503016, -0.075479 (London)\n",
    "\n",
    "52.378894, 4.885084 (Amsterdam)\n",
    "\n",
    "39.366487, 117.036146 (Beijing)\n",
    "\n",
    "-33.868457, 151.205134 (Sydney)\n",
    "```"
   ]
  },
  {
   "cell_type": "markdown",
   "metadata": {},
   "source": [
    "Осталось определить 20 ближайших к ним центров кластеров. Т.е. посчитать дистанцию до ближайшего офиса для каждой точки и выбрать 20 с наименьшим значением.\n",
    "\n",
    "Примечание: при подсчете расстояний и в кластеризации можно пренебречь тем, что Земля круглая, так как в точках, расположенных близко друг к другу погрешность мала, а в остальных точках значение достаточно велико.\n",
    "\n",
    "Для сдачи задания выберите из получившихся 20 центров тот, который наименее удален от ближайшего к нему офиса. Ответ в этом задании — широта и долгота этого центра, записанные через пробел."
   ]
  },
  {
   "cell_type": "code",
   "execution_count": 12,
   "metadata": {
    "collapsed": false
   },
   "outputs": [],
   "source": [
    "# offices coordinates\n",
    "offices = [[33.751277, -118.188740],\n",
    "           [25.867736, -80.324116],\n",
    "           [51.503016, -0.075479],\n",
    "           [52.378894, 4.885084],\n",
    "           [39.366487, 117.036146],\n",
    "           [-33.868457, 151.205134]]\n",
    "\n",
    "def calc_distance(point1, point2):\n",
    "    return ((point1[0] - point2[0]) ** 2 + (point1[1] - point2[1]) ** 2) ** (1 / 2)\n",
    "\n",
    "for i, cluster in enumerate(df_clusters.values):\n",
    "    temp_distances = [] # create a temp list to store distance from cluster to each office\n",
    "    for office in offices:\n",
    "        temp_distances.append(calc_distance([cluster[0], cluster[1]], office))\n",
    "    \n",
    "    df_clusters.iloc[i,3] = min(temp_distances)"
   ]
  },
  {
   "cell_type": "code",
   "execution_count": 13,
   "metadata": {
    "collapsed": true
   },
   "outputs": [],
   "source": [
    "df_clusters.to_csv('clusters.csv', index=False)"
   ]
  },
  {
   "cell_type": "code",
   "execution_count": 14,
   "metadata": {
    "collapsed": false
   },
   "outputs": [
    {
     "data": {
      "text/html": [
       "<div>\n",
       "<table border=\"1\" class=\"dataframe\">\n",
       "  <thead>\n",
       "    <tr style=\"text-align: right;\">\n",
       "      <th></th>\n",
       "      <th>cent_latitude</th>\n",
       "      <th>cent_longitude</th>\n",
       "      <th>clust_size</th>\n",
       "      <th>min_distance</th>\n",
       "    </tr>\n",
       "  </thead>\n",
       "  <tbody>\n",
       "    <tr>\n",
       "      <th>273</th>\n",
       "      <td>-33.865455</td>\n",
       "      <td>151.205026</td>\n",
       "      <td>47</td>\n",
       "      <td>0.00300391</td>\n",
       "    </tr>\n",
       "    <tr>\n",
       "      <th>283</th>\n",
       "      <td>52.372809</td>\n",
       "      <td>4.892478</td>\n",
       "      <td>46</td>\n",
       "      <td>0.00957642</td>\n",
       "    </tr>\n",
       "    <tr>\n",
       "      <th>321</th>\n",
       "      <td>25.842490</td>\n",
       "      <td>-80.315828</td>\n",
       "      <td>40</td>\n",
       "      <td>0.0265716</td>\n",
       "    </tr>\n",
       "    <tr>\n",
       "      <th>51</th>\n",
       "      <td>51.503516</td>\n",
       "      <td>-0.126634</td>\n",
       "      <td>306</td>\n",
       "      <td>0.0511574</td>\n",
       "    </tr>\n",
       "    <tr>\n",
       "      <th>50</th>\n",
       "      <td>33.812629</td>\n",
       "      <td>-118.144897</td>\n",
       "      <td>268</td>\n",
       "      <td>0.0754071</td>\n",
       "    </tr>\n",
       "    <tr>\n",
       "      <th>23</th>\n",
       "      <td>25.786088</td>\n",
       "      <td>-80.214925</td>\n",
       "      <td>706</td>\n",
       "      <td>0.136342</td>\n",
       "    </tr>\n",
       "    <tr>\n",
       "      <th>102</th>\n",
       "      <td>26.003775</td>\n",
       "      <td>-80.212508</td>\n",
       "      <td>136</td>\n",
       "      <td>0.175963</td>\n",
       "    </tr>\n",
       "    <tr>\n",
       "      <th>80</th>\n",
       "      <td>33.896504</td>\n",
       "      <td>-118.063185</td>\n",
       "      <td>162</td>\n",
       "      <td>0.191976</td>\n",
       "    </tr>\n",
       "    <tr>\n",
       "      <th>35</th>\n",
       "      <td>33.868063</td>\n",
       "      <td>-118.367325</td>\n",
       "      <td>452</td>\n",
       "      <td>0.213382</td>\n",
       "    </tr>\n",
       "    <tr>\n",
       "      <th>48</th>\n",
       "      <td>33.642865</td>\n",
       "      <td>-117.945832</td>\n",
       "      <td>325</td>\n",
       "      <td>0.266003</td>\n",
       "    </tr>\n",
       "    <tr>\n",
       "      <th>53</th>\n",
       "      <td>26.110697</td>\n",
       "      <td>-80.158819</td>\n",
       "      <td>210</td>\n",
       "      <td>0.293859</td>\n",
       "    </tr>\n",
       "    <tr>\n",
       "      <th>30</th>\n",
       "      <td>33.817933</td>\n",
       "      <td>-117.894368</td>\n",
       "      <td>484</td>\n",
       "      <td>0.301824</td>\n",
       "    </tr>\n",
       "    <tr>\n",
       "      <th>9</th>\n",
       "      <td>34.066156</td>\n",
       "      <td>-118.268165</td>\n",
       "      <td>912</td>\n",
       "      <td>0.324741</td>\n",
       "    </tr>\n",
       "    <tr>\n",
       "      <th>160</th>\n",
       "      <td>26.202113</td>\n",
       "      <td>-80.243992</td>\n",
       "      <td>84</td>\n",
       "      <td>0.343843</td>\n",
       "    </tr>\n",
       "    <tr>\n",
       "      <th>33</th>\n",
       "      <td>33.683926</td>\n",
       "      <td>-117.840663</td>\n",
       "      <td>327</td>\n",
       "      <td>0.354533</td>\n",
       "    </tr>\n",
       "    <tr>\n",
       "      <th>16</th>\n",
       "      <td>34.033348</td>\n",
       "      <td>-118.437065</td>\n",
       "      <td>734</td>\n",
       "      <td>0.375805</td>\n",
       "    </tr>\n",
       "    <tr>\n",
       "      <th>56</th>\n",
       "      <td>34.129422</td>\n",
       "      <td>-118.123635</td>\n",
       "      <td>278</td>\n",
       "      <td>0.383708</td>\n",
       "    </tr>\n",
       "    <tr>\n",
       "      <th>86</th>\n",
       "      <td>34.085186</td>\n",
       "      <td>-117.964686</td>\n",
       "      <td>104</td>\n",
       "      <td>0.402114</td>\n",
       "    </tr>\n",
       "    <tr>\n",
       "      <th>20</th>\n",
       "      <td>34.128943</td>\n",
       "      <td>-118.352678</td>\n",
       "      <td>577</td>\n",
       "      <td>0.411713</td>\n",
       "    </tr>\n",
       "    <tr>\n",
       "      <th>38</th>\n",
       "      <td>34.163244</td>\n",
       "      <td>-118.239427</td>\n",
       "      <td>99</td>\n",
       "      <td>0.415073</td>\n",
       "    </tr>\n",
       "  </tbody>\n",
       "</table>\n",
       "</div>"
      ],
      "text/plain": [
       "     cent_latitude  cent_longitude  clust_size min_distance\n",
       "273     -33.865455      151.205026          47   0.00300391\n",
       "283      52.372809        4.892478          46   0.00957642\n",
       "321      25.842490      -80.315828          40    0.0265716\n",
       "51       51.503516       -0.126634         306    0.0511574\n",
       "50       33.812629     -118.144897         268    0.0754071\n",
       "23       25.786088      -80.214925         706     0.136342\n",
       "102      26.003775      -80.212508         136     0.175963\n",
       "80       33.896504     -118.063185         162     0.191976\n",
       "35       33.868063     -118.367325         452     0.213382\n",
       "48       33.642865     -117.945832         325     0.266003\n",
       "53       26.110697      -80.158819         210     0.293859\n",
       "30       33.817933     -117.894368         484     0.301824\n",
       "9        34.066156     -118.268165         912     0.324741\n",
       "160      26.202113      -80.243992          84     0.343843\n",
       "33       33.683926     -117.840663         327     0.354533\n",
       "16       34.033348     -118.437065         734     0.375805\n",
       "56       34.129422     -118.123635         278     0.383708\n",
       "86       34.085186     -117.964686         104     0.402114\n",
       "20       34.128943     -118.352678         577     0.411713\n",
       "38       34.163244     -118.239427          99     0.415073"
      ]
     },
     "execution_count": 14,
     "metadata": {},
     "output_type": "execute_result"
    }
   ],
   "source": [
    "top_clusters = df_clusters.sort_values(by='min_distance')[:20] # get top20 clusters\n",
    "top_clusters"
   ]
  },
  {
   "cell_type": "code",
   "execution_count": 15,
   "metadata": {
    "collapsed": false
   },
   "outputs": [
    {
     "data": {
      "text/html": [
       "<div>\n",
       "<table border=\"1\" class=\"dataframe\">\n",
       "  <thead>\n",
       "    <tr style=\"text-align: right;\">\n",
       "      <th></th>\n",
       "      <th>cent_latitude</th>\n",
       "      <th>cent_longitude</th>\n",
       "      <th>clust_size</th>\n",
       "      <th>min_distance</th>\n",
       "    </tr>\n",
       "  </thead>\n",
       "  <tbody>\n",
       "    <tr>\n",
       "      <th>273</th>\n",
       "      <td>-33.865455</td>\n",
       "      <td>151.205026</td>\n",
       "      <td>47</td>\n",
       "      <td>0.00300391</td>\n",
       "    </tr>\n",
       "  </tbody>\n",
       "</table>\n",
       "</div>"
      ],
      "text/plain": [
       "     cent_latitude  cent_longitude  clust_size min_distance\n",
       "273     -33.865455      151.205026          47   0.00300391"
      ]
     },
     "execution_count": 15,
     "metadata": {},
     "output_type": "execute_result"
    }
   ],
   "source": [
    "# find the closest claster to any office\n",
    "closest_cluster = top_clusters.head(n=1)\n",
    "closest_cluster"
   ]
  },
  {
   "cell_type": "code",
   "execution_count": 16,
   "metadata": {
    "collapsed": false
   },
   "outputs": [
    {
     "name": "stdout",
     "output_type": "stream",
     "text": [
      "-33.86545504680849 151.20502565744692"
     ]
    }
   ],
   "source": [
    "def write_answer1(cluster):\n",
    "    with open('answer1.txt', 'w') as f:\n",
    "        f.write('{} {}'.format(closest_cluster.iloc[0,0], closest_cluster.iloc[0,1]))\n",
    "    !cat answer1.txt\n",
    "    \n",
    "write_answer1(closest_cluster)"
   ]
  }
 ],
 "metadata": {
  "anaconda-cloud": {},
  "kernelspec": {
   "display_name": "Python [default]",
   "language": "python",
   "name": "python3"
  },
  "language_info": {
   "codemirror_mode": {
    "name": "ipython",
    "version": 3
   },
   "file_extension": ".py",
   "mimetype": "text/x-python",
   "name": "python",
   "nbconvert_exporter": "python",
   "pygments_lexer": "ipython3",
   "version": "3.5.2"
  }
 },
 "nbformat": 4,
 "nbformat_minor": 1
}
